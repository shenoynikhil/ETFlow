{
 "cells": [
  {
   "cell_type": "code",
   "execution_count": 1,
   "metadata": {},
   "outputs": [
    {
     "name": "stderr",
     "output_type": "stream",
     "text": [
      "/Users/cristian.gabellini/Desktop/workspace/ETFlow/etflow/models/model.py:171: SyntaxWarning: invalid escape sequence '\\I'\n",
      "  This is the list of implemented interpolations {self.__interpolation_types__}.\\n\"\"\"\n",
      "/Users/cristian.gabellini/Desktop/workspace/ETFlow/etflow/models/model.py:176: SyntaxWarning: invalid escape sequence '\\I'\n",
      "  This is the list of implemented interpolations {self.__path_types__}.\\n\"\"\"\n",
      "\u001b[32m2024-12-12 00:37:56.328\u001b[0m | \u001b[1mINFO    \u001b[0m | \u001b[36metflow.utils\u001b[0m:\u001b[36minstantiate_model\u001b[0m:\u001b[36m137\u001b[0m - \u001b[1mLoading BaseFlow with args: {'network_type': 'TorchMDDynamics', 'hidden_channels': 160, 'num_layers': 20, 'num_rbf': 64, 'rbf_type': 'expnorm', 'trainable_rbf': True, 'activation': 'silu', 'neighbor_embedding': True, 'cutoff_lower': 0.0, 'cutoff_upper': 10.0, 'max_z': 100, 'node_attr_dim': 10, 'edge_attr_dim': 1, 'attn_activation': 'silu', 'num_heads': 8, 'distance_influence': 'both', 'reduce_op': 'sum', 'qk_norm': True, 'so3_equivariant': False, 'clip_during_norm': True, 'parity_switch': 'post_hoc', 'output_layer_norm': False, 'sigma': 0.1, 'prior_type': 'harmonic', 'interpolation_type': 'linear', 'optimizer_type': 'AdamW', 'lr': 0.0008, 'weight_decay': 1e-08, 'lr_scheduler_type': 'CosineAnnealingWarmupRestarts', 'first_cycle_steps': 375000, 'cycle_mult': 1.0, 'max_lr': 0.0005, 'min_lr': 1e-08, 'warmup_steps': 0, 'gamma': 0.05, 'last_epoch': -1, 'lr_scheduler_monitor': 'val/loss', 'lr_scheduler_interval': 'step', 'lr_scheduler_frequency': 1}\u001b[0m\n"
     ]
    },
    {
     "name": "stdout",
     "output_type": "stream",
     "text": [
      "Loading drugs-o3 from config\n",
      "Checkpoint found at cache/drugs-o3.ckpt\n",
      "Device cuda not found. Using cpu instead\n"
     ]
    },
    {
     "name": "stderr",
     "output_type": "stream",
     "text": [
      "<unknown>:472: SyntaxWarning: invalid escape sequence '\\m'\n",
      "/Users/cristian.gabellini/Desktop/workspace/ETFlow/etflow/models/model.py:214: FutureWarning: You are using `torch.load` with `weights_only=False` (the current default value), which uses the default pickle module implicitly. It is possible to construct malicious pickle data which will execute arbitrary code during unpickling (See https://github.com/pytorch/pytorch/blob/main/SECURITY.md#untrusted-models for more details). In a future release, the default value for `weights_only` will be flipped to `True`. This limits the functions that could be executed during unpickling. Arbitrary objects will no longer be allowed to be loaded via this mode unless they are explicitly allowlisted by the user via `torch.serialization.add_safe_globals`. We recommend you start setting `weights_only=True` for any use case where you don't have full control of the loaded file. Please open an issue on GitHub for any issues related to this experimental feature.\n",
      "  checkpoint = torch.load(checkpoint_path, map_location=device)\n",
      "Seed set to 42\n",
      "/Users/cristian.gabellini/Desktop/workspace/ETFlow/etflow/commons/utils.py:177: UserWarning: torch.sparse.SparseTensor(indices, values, shape, *, device=) is deprecated.  Please use torch.sparse_coo_tensor(indices, values, shape, dtype=, device=). (Triggered internally at /Users/runner/work/_temp/anaconda/conda-bld/pytorch_1724788636709/work/torch/csrc/utils/tensor_new.cpp:643.)\n",
      "  bgraph_adj = torch.sparse.LongTensor(edge_index, edge_type, torch.Size([N, N]))\n"
     ]
    },
    {
     "data": {
      "text/plain": [
       "{'CN1C=NC2=C1C(=O)N(C(=O)N2C)C': [<rdkit.Chem.rdchem.Mol at 0x28069b220>,\n",
       "  <rdkit.Chem.rdchem.Mol at 0x28069b370>,\n",
       "  <rdkit.Chem.rdchem.Mol at 0x28069b3e0>]}"
      ]
     },
     "execution_count": 1,
     "metadata": {},
     "output_type": "execute_result"
    }
   ],
   "source": [
    "from etflow import BaseFlow\n",
    "model=BaseFlow.from_default(model=\"drugs-o3\")\n",
    "model.predict(['CN1C=NC2=C1C(=O)N(C(=O)N2C)C'], num_samples=3, as_mol=True)"
   ]
  }
 ],
 "metadata": {
  "kernelspec": {
   "display_name": "etflow",
   "language": "python",
   "name": "python3"
  },
  "language_info": {
   "codemirror_mode": {
    "name": "ipython",
    "version": 3
   },
   "file_extension": ".py",
   "mimetype": "text/x-python",
   "name": "python",
   "nbconvert_exporter": "python",
   "pygments_lexer": "ipython3",
   "version": "3.12.8"
  }
 },
 "nbformat": 4,
 "nbformat_minor": 2
}
